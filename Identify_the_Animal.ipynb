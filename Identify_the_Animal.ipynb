{
 "cells": [
  {
   "cell_type": "code",
   "execution_count": null,
   "metadata": {},
   "outputs": [],
   "source": [
    "import cv2\n",
    "import csv\n",
    "import pandas as pd\n",
    "from pandas import DataFrame\n",
    "from sklearn import preprocessing\n",
    "import os"
   ]
  },
  {
   "cell_type": "code",
   "execution_count": null,
   "metadata": {},
   "outputs": [],
   "source": [
    "%matplotlib inline\n",
    "import matplotlib.pyplot as plt\n",
    "import tensorflow as tf\n",
    "from tensorflow.python.keras.models import Sequentiasl\n",
    "from tensorflow.python.keras.layers import InputLayer, Input\n",
    "from tensorflow.python.keras.layers import Reshape, MaxPooling2D\n",
    "from tensorflow.python.keras.layers import Conv2D, Dense, Flatten\n",
    "from tensorflow.python.keras.layers import Dropout"
   ]
  },
  {
   "cell_type": "code",
   "execution_count": null,
   "metadata": {},
   "outputs": [],
   "source": [
    "# Training Labels\n",
    "train_data= pd.read_csv(\"/Dataset/meta-data/train.csv\")\n",
    "\n",
    "x1 = train_data.values\n",
    "y_train = x1[:13000,1:]\n",
    "y_train = pd.DataFrame(y_train)\n",
    "\n",
    "le = preprocessing.LabelEncoder()\n",
    "y_train = y_train.apply(le.fit_transform)\n",
    "y_train = np.array(y_train)"
   ]
  },
  {
   "cell_type": "code",
   "execution_count": null,
   "metadata": {},
   "outputs": [],
   "source": [
    "print(y_train[0])\n",
    "print(y_train.shape)"
   ]
  },
  {
   "cell_type": "code",
   "execution_count": null,
   "metadata": {},
   "outputs": [],
   "source": [
    "filelist_train = []\n",
    "image_train = []\n",
    "filelist_test = []\n",
    "image_test = []\n",
    "for i in range(1,13001):\n",
    "    filelist_train.append(\"/Dataset/train//Img-\"+str(i)+\".jpg\")\n",
    "    image_train.append(\"Img-\"+str(i)+\".jpg\")\n",
    "for i in range(1,6001):\n",
    "    filelist_test.append(\"/Dataset/test//Img-\"+str(i)+\".jpg\")\n",
    "    image_test.append(\"Img-\"+str(i)+\".jpg\")"
   ]
  },
  {
   "cell_type": "code",
   "execution_count": null,
   "metadata": {},
   "outputs": [],
   "source": [
    "\"\"\"\n",
    "print(filelist_train[0])\n",
    "print(image_train[0])\n",
    "print(filelist_test[0])\n",
    "print(image_test[0])\n",
    "\"\"\""
   ]
  },
  {
   "cell_type": "code",
   "execution_count": null,
   "metadata": {},
   "outputs": [],
   "source": [
    "Img_size = 224"
   ]
  },
  {
   "cell_type": "code",
   "execution_count": null,
   "metadata": {},
   "outputs": [],
   "source": [
    "x_train = np.array([np.array(cv2.resize(cv2.imread(fname),(Img_size,Img_size))) for fname in filelist_train])"
   ]
  },
  {
   "cell_type": "code",
   "execution_count": null,
   "metadata": {},
   "outputs": [],
   "source": [
    "x_test = np.array([np.array(cv2.resize(cv2.imread(fname),(Img_size,Img_size))) for fname in filelist_test])"
   ]
  },
  {
   "cell_type": "code",
   "execution_count": null,
   "metadata": {},
   "outputs": [],
   "source": [
    "print(x_train.shape)\n",
    "print(x_test.shape)"
   ]
  },
  {
   "cell_type": "code",
   "execution_count": null,
   "metadata": {},
   "outputs": [],
   "source": [
    "import inception"
   ]
  },
  {
   "cell_type": "code",
   "execution_count": null,
   "metadata": {},
   "outputs": [],
   "source": [
    "model = inception.Inception()"
   ]
  },
  {
   "cell_type": "code",
   "execution_count": null,
   "metadata": {},
   "outputs": [],
   "source": [
    "from inception import transfer_values_cache"
   ]
  },
  {
   "cell_type": "code",
   "execution_count": null,
   "metadata": {},
   "outputs": [],
   "source": [
    "file_path_cache_train_image = os.path.join('/inception_train_jpg.pkl')\n",
    "file_path_cache_test_image = os.path.join('/inception_test_jpg.pkl')"
   ]
  },
  {
   "cell_type": "code",
   "execution_count": null,
   "metadata": {},
   "outputs": [],
   "source": [
    "print(\"Processing Inception train transfer-values\")\n",
    "\n",
    "images_scaled = x_train * 255.0\n",
    "\n",
    "# If transfer-values have already been calculated then reload them,\n",
    "# otherwise calculate them and save them to a cache-file.\n",
    "transfer_values_train_jpg = transfer_values_cache(cache_path=file_path_cache_train_image,\n",
    "                                             images=images_scaled,\n",
    "                                             model=model)"
   ]
  },
  {
   "cell_type": "code",
   "execution_count": null,
   "metadata": {},
   "outputs": [],
   "source": [
    "print(\"Processing Inception test transfer-values\")\n",
    "\n",
    "images_scaled = x_test * 255.0\n",
    "\n",
    "# If transfer-values have already been calculated then reload them,\n",
    "# otherwise calculate them and save them to a cache-file.\n",
    "transfer_values_test_jpg = transfer_values_cache(cache_path=file_path_cache_test_image,\n",
    "                                             images=images_scaled,\n",
    "                                             model=model)"
   ]
  },
  {
   "cell_type": "code",
   "execution_count": null,
   "metadata": {},
   "outputs": [],
   "source": [
    "labels = ['antelope','bat','beaver','bobcat','buffalo','chihuahua','chimpanzee','collie','dalmatian',\n",
    "          'german+shepherd','grizzly+bear','hippopotamus','horse','killer+whale','mole','moose'\n",
    "          ,'mouse','otter','ox','persian+cat','raccoon','rat','rhinoceros','seal','siamese+cat'\n",
    "          ,'spider+monkey','squirrel','walrus','weasel','wolf']"
   ]
  },
  {
   "cell_type": "code",
   "execution_count": null,
   "metadata": {},
   "outputs": [],
   "source": [
    "model = Sequential()\n",
    "model.add(Flatten())\n",
    "model.add(Dense(1024, activation='relu'))\n",
    "model.add(Dropout(0.25))\n",
    "model.add(Dense(30, activation='softmax'))"
   ]
  },
  {
   "cell_type": "code",
   "execution_count": null,
   "metadata": {},
   "outputs": [],
   "source": [
    "from tensorflow.python.keras.optimizers import Adam\n",
    "\n",
    "optimizer = Adam(lr = 1e-4)"
   ]
  },
  {
   "cell_type": "code",
   "execution_count": null,
   "metadata": {},
   "outputs": [],
   "source": [
    "model.compile(optimizer=optimizer,\n",
    "             loss = 'categorical_crossentropy',\n",
    "             metrics=['accuracy'])"
   ]
  },
  {
   "cell_type": "code",
   "execution_count": null,
   "metadata": {},
   "outputs": [],
   "source": [
    "cls = np.eye(30)[y_train]"
   ]
  },
  {
   "cell_type": "code",
   "execution_count": null,
   "metadata": {},
   "outputs": [],
   "source": [
    "cls = cls.reshape(13000,30)"
   ]
  },
  {
   "cell_type": "code",
   "execution_count": null,
   "metadata": {
    "scrolled": false
   },
   "outputs": [],
   "source": [
    "model.fit(x=transfer_values_train_jpg,\n",
    "         y=cls,\n",
    "         epochs=550, batch_size=28)"
   ]
  },
  {
   "cell_type": "code",
   "execution_count": null,
   "metadata": {},
   "outputs": [],
   "source": [
    "result = model.evaluate(x= transfer_values_train_jpg,\n",
    "                       y = cls)"
   ]
  },
  {
   "cell_type": "code",
   "execution_count": null,
   "metadata": {},
   "outputs": [],
   "source": [
    "for name,value in zip(model.metrics_names, result):\n",
    "    print(name,value)"
   ]
  },
  {
   "cell_type": "code",
   "execution_count": null,
   "metadata": {},
   "outputs": [],
   "source": [
    "print(y_train[0])\n",
    "print(labels[int(y_train[0])])"
   ]
  },
  {
   "cell_type": "code",
   "execution_count": null,
   "metadata": {},
   "outputs": [],
   "source": [
    "y_pred = model.predict(x=transfer_values_train_jpg)"
   ]
  },
  {
   "cell_type": "code",
   "execution_count": null,
   "metadata": {},
   "outputs": [],
   "source": [
    "cls_pred = np.argmax(y_pred, axis=1)\n",
    "print(labels[int(cls_pred[0])])"
   ]
  },
  {
   "cell_type": "code",
   "execution_count": null,
   "metadata": {},
   "outputs": [],
   "source": [
    "print(y_pred[1])"
   ]
  },
  {
   "cell_type": "code",
   "execution_count": null,
   "metadata": {},
   "outputs": [],
   "source": [
    "y_pred_test = model.predict(x=transfer_values_test_jpg)"
   ]
  },
  {
   "cell_type": "code",
   "execution_count": null,
   "metadata": {},
   "outputs": [],
   "source": [
    "cls_pred_test = np.argmax(y_pred_test, axis=1)\n",
    "print(cls_pred_test[0])\n",
    "print(labels[int(cls_pred_test[0])])"
   ]
  },
  {
   "cell_type": "code",
   "execution_count": null,
   "metadata": {},
   "outputs": [],
   "source": [
    "print(y_pred_test[0])"
   ]
  },
  {
   "cell_type": "code",
   "execution_count": null,
   "metadata": {},
   "outputs": [],
   "source": [
    "print(y_pred_test[0][4])"
   ]
  },
  {
   "cell_type": "code",
   "execution_count": null,
   "metadata": {},
   "outputs": [],
   "source": [
    "df = pd.DataFrame(columns =['image_id','antelope','bat','beaver','bobcat','buffalo','chihuahua','chimpanzee','collie','dalmatian','german+shepherd','grizzly+bear','hippopotamus'\n",
    ",'horse'\n",
    ",'killer+whale'\n",
    ",'mole'\n",
    ",'moose'\n",
    ",'mouse'\n",
    ",'otter'\n",
    ",'ox'\n",
    ",'persian+cat'\n",
    ",'raccoon'\n",
    ",'rat'\n",
    ",'rhinoceros'\n",
    ",'seal'\n",
    ",'siamese+cat'\n",
    ",'spider+monkey'\n",
    ",'squirrel'\n",
    ",'walrus'\n",
    ",'weasel'\n",
    ",'wolf'])"
   ]
  },
  {
   "cell_type": "code",
   "execution_count": null,
   "metadata": {},
   "outputs": [],
   "source": [
    "df.to_csv('/home/ubuntu/submission_file.csv')"
   ]
  },
  {
   "cell_type": "code",
   "execution_count": null,
   "metadata": {},
   "outputs": [],
   "source": [
    "for k in range(6000):\n",
    "    ls = []\n",
    "    ls.append(image_test[k])\n",
    "    for i in range(30):\n",
    "        ls.append(y_pred_test[k][i])\n",
    "    with open('/home/ubuntu/submission_file.csv','a') as f:\n",
    "        writer = csv.writer(f)\n",
    "        writer.writerow(ls)"
   ]
  },
  {
   "cell_type": "code",
   "execution_count": null,
   "metadata": {},
   "outputs": [],
   "source": []
  }
 ],
 "metadata": {
  "kernelspec": {
   "display_name": "Python 3",
   "language": "python",
   "name": "python3"
  },
  "language_info": {
   "codemirror_mode": {
    "name": "ipython",
    "version": 3
   },
   "file_extension": ".py",
   "mimetype": "text/x-python",
   "name": "python",
   "nbconvert_exporter": "python",
   "pygments_lexer": "ipython3",
   "version": "3.6.5"
  }
 },
 "nbformat": 4,
 "nbformat_minor": 2
}
